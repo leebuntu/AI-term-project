{
 "cells": [
  {
   "cell_type": "code",
   "execution_count": null,
   "metadata": {},
   "outputs": [],
   "source": [
    "!pip install tensorboard\n",
    "!pip install -qqq accelerate==0.28.0\n",
    "!pip install -qqq transformers==4.48.3\n",
    "!pip install -qqq datasets==3.6.0\n",
    "\n",
    "!pip install -U accelerate\n",
    "\n",
    "import os\n",
    "from google.colab import drive\n",
    "\n",
    "drive.mount('/content/drive')\n",
    "\n",
    "zip_file = \"/content/drive/MyDrive/ai_term/train.zip\"\n",
    "extract_dir = \"data\"\n",
    "train_data_labels_path = os.path.join(extract_dir, \"train\", \"train_labels.csv\") \n",
    "\n",
    "if not os.path.exists(extract_dir) or not os.path.exists(train_data_labels_path):\n",
    "    print(f\"{extract_dir} 디렉토리 또는 필요한 파일({train_data_labels_path})이 존재하지 않습니다. 압축 해제합니다.\")\n",
    "    if not os.path.exists(extract_dir):\n",
    "        os.makedirs(extract_dir)\n",
    "    !unzip -q {zip_file} -d {extract_dir}\n",
    "else:\n",
    "    print(f\"{extract_dir} 디렉토리와 필요한 파일이 이미 존재합니다. 압축 해제를 건너뜁니다.\")\n",
    "\n",
    "train_data_labels = train_data_labels_path\n",
    "train_image_path = os.path.join(extract_dir, \"train\", \"images\") + \"/\""
   ]
  },
  {
   "cell_type": "code",
   "execution_count": 44,
   "metadata": {},
   "outputs": [],
   "source": [
    "train_data_labels = \"../data/train/train_labels.csv\"\n",
    "train_image_path = \"../data/train/images/\"\n",
    "\n",
    "embedding_vector_output_path = \"./output/embedding_vector.npy\"\n",
    "\n",
    "fruit_labels = [\"apple\", \"asian pear\", \"banana\", \"cherry\", \"grape\", \"pineapple\"]\n",
    "style_labels = [\"pencil color\", \"oil painting\", \"water color\"]"
   ]
  },
  {
   "cell_type": "code",
   "execution_count": 55,
   "metadata": {},
   "outputs": [],
   "source": [
    "from transformers import ViTImageProcessor\n",
    "from transformers import ViTModel\n",
    "\n",
    "from PIL import Image\n",
    "\n",
    "import torch.nn as nn\n",
    "import torch\n",
    "\n",
    "from sklearn.model_selection import train_test_split\n",
    "from sklearn.metrics import accuracy_score, f1_score, recall_score\n",
    "import seaborn as sns\n",
    "from sklearn.metrics import confusion_matrix\n",
    "\n",
    "import matplotlib.pyplot as plt\n",
    "\n",
    "import numpy as np\n",
    "\n",
    "import pandas as pd"
   ]
  },
  {
   "cell_type": "code",
   "execution_count": 46,
   "metadata": {},
   "outputs": [],
   "source": [
    "import os\n",
    "import random\n",
    "\n",
    "def set_seed(seed_value=42):\n",
    "    \"\"\"Set seed for reproducibility.\"\"\"\n",
    "    np.random.seed(seed_value)\n",
    "    torch.manual_seed(seed_value)\n",
    "    torch.cuda.manual_seed(seed_value)\n",
    "    torch.cuda.manual_seed_all(seed_value)\n",
    "    random.seed(seed_value)\n",
    "    os.environ['PYTHONHASHSEED'] = str(seed_value)\n",
    "\n",
    "    torch.backends.cudnn.deterministic = True\n",
    "    torch.backends.cudnn.benchmark = False\n",
    "\n",
    "set_seed()"
   ]
  },
  {
   "cell_type": "code",
   "execution_count": 47,
   "metadata": {},
   "outputs": [
    {
     "name": "stdout",
     "output_type": "stream",
     "text": [
      "  file_name  style  fruit\n",
      "0     0.jpg      0      0\n",
      "1     1.jpg      0      0\n",
      "2     2.jpg      0      0\n",
      "3     3.jpg      0      0\n",
      "4     4.jpg      0      0\n"
     ]
    }
   ],
   "source": [
    "dataset = pd.read_csv(train_data_labels)\n",
    "print(dataset.head())\n",
    "\n",
    "train, test = train_test_split(dataset, test_size=0.3, random_state=42)"
   ]
  },
  {
   "cell_type": "code",
   "execution_count": 48,
   "metadata": {},
   "outputs": [
    {
     "name": "stdout",
     "output_type": "stream",
     "text": [
      "Using device: mps\n"
     ]
    }
   ],
   "source": [
    "if torch.cuda.is_available():\n",
    "    device = torch.device('cuda')\n",
    "elif torch.backends.mps.is_available():\n",
    "    device = torch.device('mps')\n",
    "else:\n",
    "    device = torch.device('cpu')\n",
    "\n",
    "print(f\"Using device: {device}\")"
   ]
  },
  {
   "cell_type": "code",
   "execution_count": 49,
   "metadata": {},
   "outputs": [
    {
     "name": "stderr",
     "output_type": "stream",
     "text": [
      "Some weights of ViTModel were not initialized from the model checkpoint at google/vit-base-patch16-224 and are newly initialized: ['pooler.dense.bias', 'pooler.dense.weight']\n",
      "You should probably TRAIN this model on a down-stream task to be able to use it for predictions and inference.\n"
     ]
    }
   ],
   "source": [
    "feature_extractor = ViTImageProcessor.from_pretrained(\"google/vit-base-patch16-224\")\n",
    "model = ViTModel.from_pretrained(\"google/vit-base-patch16-224\")\n",
    "model.to(device)\n",
    "\n",
    "model.eval()\n",
    "\n",
    "embeddings = []\n",
    "\n",
    "with torch.no_grad():\n",
    "    for _, data in train.iterrows():\n",
    "        img_path = os.path.join(train_image_path, data[\"file_name\"])\n",
    "        img = Image.open(img_path).convert(\"RGB\")\n",
    "\n",
    "        inputs = feature_extractor(images=img, return_tensors=\"pt\")\n",
    "        inputs = {k: v.to(device) for k, v in inputs.items()}\n",
    "\n",
    "        outputs = model(**inputs)\n",
    "        emb = outputs.last_hidden_state[:, 0].squeeze().cpu().numpy()\n",
    "        embeddings.append(emb)\n",
    "\n",
    "embeddings = np.stack(embeddings)\n",
    "np.save(embedding_vector_output_path, embeddings)"
   ]
  },
  {
   "cell_type": "code",
   "execution_count": 50,
   "metadata": {},
   "outputs": [],
   "source": [
    "top_k = 5\n",
    "\n",
    "train_embeddings = np.load(embedding_vector_output_path)\n",
    "\n",
    "train_fruit_labels = train[\"fruit\"].tolist()\n",
    "train_style_labels = train[\"style\"].tolist()\n",
    "\n",
    "def cosine_similarity(a, b):\n",
    "    return np.dot(a, b) / (np.linalg.norm(a) * np.linalg.norm(b))"
   ]
  },
  {
   "cell_type": "code",
   "execution_count": 51,
   "metadata": {},
   "outputs": [],
   "source": [
    "true_fruit, pred_fruit = [], []\n",
    "true_style, pred_style = [], []\n",
    "\n",
    "for _, row in test.iterrows():\n",
    "    img_path = os.path.join(train_image_path, row[\"file_name\"])\n",
    "    fruit_label = row[\"fruit\"]\n",
    "    style_label = row[\"style\"]\n",
    "\n",
    "    true_fruit.append(fruit_label)\n",
    "    true_style.append(style_label)\n",
    "\n",
    "    img = Image.open(img_path).convert(\"RGB\")\n",
    "    inputs = feature_extractor(images=img, return_tensors=\"pt\")\n",
    "    inputs = {k: v.to(device) for k, v in inputs.items()}\n",
    "\n",
    "    with torch.no_grad():\n",
    "        emb = model(**inputs).last_hidden_state[:, 0].squeeze().cpu().numpy()\n",
    "\n",
    "    similarities = [cosine_similarity(emb, train_emb) for train_emb in train_embeddings]\n",
    "    topk_indices = np.argsort(similarities)[::-1][:top_k]\n",
    "\n",
    "    topk_fruit = [train_fruit_labels[i] for i in topk_indices]\n",
    "    topk_style = [train_style_labels[i] for i in topk_indices]\n",
    "\n",
    "    pred_fruit = fruit_label if fruit_label in topk_fruit else topk_fruit[0]\n",
    "    pred_style = style_label if style_label in topk_style else topk_style[0]\n",
    "\n",
    "    pred_fruit.append(pred_fruit)\n",
    "    pred_style.append(pred_style)"
   ]
  },
  {
   "cell_type": "code",
   "execution_count": 52,
   "metadata": {},
   "outputs": [
    {
     "name": "stdout",
     "output_type": "stream",
     "text": [
      "[FRUIT] Top-5 Accuracy: 0.9972, F1: 0.9973, Recall: 0.9973\n",
      "[STYLE] Top-5 Accuracy: 0.9963, F1: 0.9963, Recall: 0.9963\n"
     ]
    }
   ],
   "source": [
    "def evaluate(y_true, y_pred, label=\"\"):\n",
    "    acc = accuracy_score(y_true, y_pred)\n",
    "    f1 = f1_score(y_true, y_pred, average=\"macro\")\n",
    "    rec = recall_score(y_true, y_pred, average=\"macro\")\n",
    "    print(f\"[{label}] Top-{top_k} Accuracy: {acc:.4f}, F1: {f1:.4f}, Recall: {rec:.4f}\")\n",
    "\n",
    "evaluate(true_fruit, pred_fruit, \"FRUIT\")\n",
    "evaluate(true_style, pred_style, \"STYLE\")"
   ]
  },
  {
   "cell_type": "code",
   "execution_count": 59,
   "metadata": {},
   "outputs": [],
   "source": [
    "def draw_two_confusion_matrix(first_label, first_conf_matrix, first_classes, second_label, second_conf_matrix, second_classes):\n",
    "    fig, axes = plt.subplots(1, 2, figsize=(14, 6))\n",
    "\n",
    "    sns.heatmap(first_conf_matrix, annot=True, fmt=\"d\", cmap=\"YlGnBu\",\n",
    "                xticklabels=first_classes, yticklabels=first_classes, ax=axes[0])\n",
    "    axes[0].set_title(f\"Confusion Matrix: {first_label}\")\n",
    "    axes[0].set_xlabel(\"Predicted\")\n",
    "    axes[0].set_ylabel(\"Actual\")\n",
    "\n",
    "    sns.heatmap(second_conf_matrix, annot=True, fmt=\"d\", cmap=\"YlOrBr\",\n",
    "                xticklabels=second_classes, yticklabels=second_classes, ax=axes[1])\n",
    "    axes[1].set_title(f\"Confusion Matrix: {second_label}\")\n",
    "    axes[1].set_xlabel(\"Predicted\")\n",
    "    axes[1].set_ylabel(\"Actual\")\n",
    "\n",
    "    plt.tight_layout()\n",
    "    plt.show()"
   ]
  },
  {
   "cell_type": "code",
   "execution_count": null,
   "metadata": {},
   "outputs": [
    {
     "data": {
      "image/png": "[encoded data removed]",
      "text/plain": [
       "<Figure size 1400x600 with 4 Axes>"
      ]
     },
     "metadata": {},
     "output_type": "display_data"
    }
   ],
   "source": [
    "fruit_classes = sorted(set(dataset[\"fruit\"]))\n",
    "style_classes = sorted(set(dataset[\"style\"]))\n",
    "\n",
    "fruit_conf_matrix = confusion_matrix(true_fruit, pred_fruit)\n",
    "style_conf_matrix = confusion_matrix(true_style, pred_style)\n",
    "\n",
    "draw_two_confusion_matrix(\"Fruit\", fruit_conf_matrix, fruit_classes, \"Style\", style_conf_matrix, style_classes)"
   ]
  }
 ],
 "metadata": {
  "kernelspec": {
   "display_name": "Python (ai311)",
   "language": "python",
   "name": "ai311"
  },
  "language_info": {
   "codemirror_mode": {
    "name": "ipython",
    "version": 3
   },
   "file_extension": ".py",
   "mimetype": "text/x-python",
   "name": "python",
   "nbconvert_exporter": "python",
   "pygments_lexer": "ipython3",
   "version": "3.11.13"
  }
 },
 "nbformat": 4,
 "nbformat_minor": 2
}
